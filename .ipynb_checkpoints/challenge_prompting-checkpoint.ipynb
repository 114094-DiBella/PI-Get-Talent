{
 "cells": [
  {
   "cell_type": "markdown",
   "id": "92de8ca4-7181-45f5-9980-b723d2566f5e",
   "metadata": {},
   "source": [
    "# Challenge Prompting\n",
    "\n",
    "Resolver los siguientes ejercicios dejando el codigo con su ejecucion.\n",
    "\n",
    "Importar las librerias necesarias y **correr las celdas para visualizar el resultado en cada ejercicio**."
   ]
  },
  {
   "cell_type": "code",
   "execution_count": 7,
   "id": "d65bbb09-0f5a-4e97-9a06-2361c5cdd1bd",
   "metadata": {},
   "outputs": [],
   "source": [
    "## bloque importacion de librerias\n",
    "\n",
    "import json\n",
    "import ipywidgets as widgets\n",
    "\n",
    "import cohere\n",
    "from IPython.display import display, clear_output"
   ]
  },
  {
   "cell_type": "code",
   "execution_count": 8,
   "id": "e004e5b7-b704-4592-b8b4-b01b8d6687cb",
   "metadata": {},
   "outputs": [
    {
     "name": "stdout",
     "output_type": "stream",
     "text": [
      "cIsPc5Yag3hdbSXuMR2XyckDtyvgHpP81FI4Rylm\n"
     ]
    }
   ],
   "source": [
    "## bloque variables de entorno\n",
    "from dotenv import load_dotenv\n",
    "import os\n",
    "\n",
    "load_dotenv()  # Load .env file\n",
    "\n",
    "api_key = os.getenv(\"COHERE_API_KEY\")\n",
    "print(api_key)  # Verify the key is loaded\n"
   ]
  },
  {
   "cell_type": "code",
   "execution_count": 10,
   "id": "cd6745ff-cd45-4231-b3d6-518954a9ffca",
   "metadata": {},
   "outputs": [
    {
     "name": "stdout",
     "output_type": "stream",
     "text": [
      "id='faa7d1b7-8d42-4bfe-9da0-e4a86d8ccdcb' finish_reason='COMPLETE' prompt=None message=AssistantMessageResponse(role='assistant', tool_calls=None, tool_plan=None, content=[TextAssistantMessageResponseContentItem(type='text', text='Hello! How can I help you today?')], citations=None) usage=Usage(billed_units=UsageBilledUnits(input_tokens=3.0, output_tokens=9.0, search_units=None, classifications=None), tokens=UsageTokens(input_tokens=204.0, output_tokens=9.0)) logprobs=None\n"
     ]
    }
   ],
   "source": [
    "## bloque conexion a Cohere\n",
    "co = cohere.ClientV2()\n",
    "# alternativa:\n",
    "# co = cohere.ClientV2(api_key)\n",
    "response = co.chat(\n",
    "    model=\"command-r-plus-08-2024\",\n",
    "    messages=[{\"role\": \"user\", \"content\": \"hello world!\"}],\n",
    ")\n",
    "print(response)"
   ]
  },
  {
   "cell_type": "markdown",
   "id": "9aacdb26-ce51-49cc-b37f-5aa45c09ff51",
   "metadata": {},
   "source": [
    "## Ejercicio 1\n",
    "\n",
    "Extraccion de entidades\n",
    "\n",
    "Utilizar el LLM para extraer las siguientes entidades del texto medico.\n",
    "\n",
    "- Paciente:\n",
    "    - Nombre\n",
    "    - Edad\n",
    "- Fecha de admisión\n",
    "- Síntomas\n",
    "- Diagnóstico\n",
    "- Tratamiento recomendado\n",
    "\n",
    "**Aclaracion:** \n",
    "\n",
    "La salida tiene que ser un **string con formato de tipo json**, el cual se convertira en un diccionario de Python.\n",
    "\n",
    "Si la linea de conversion en test da error el ejercicio no esta completo."
   ]
  },
  {
   "cell_type": "code",
   "execution_count": null,
   "id": "750e43d7-b074-4973-9cd0-5a6fbe816084",
   "metadata": {},
   "outputs": [],
   "source": [
    "# ejemplo \n",
    "\n",
    "# texto a analizar\n",
    "\"\"\"La paciente, María González, de 45 años, fue admitida en el Hospital Central el 5 de agosto de 2023 debido a síntomas de fatiga crónica y dolores musculares./\n",
    "Tras una serie de análisis, se diagnosticó fibromialgia. La doctora a cargo, Laura Ramírez, recomendó un tratamiento basado en fisioterapia y medicamentos analgésicos. /\n",
    "La próxima consulta está programada para el 15 de septiembre.\"\"\"\n",
    "\n",
    "\n",
    "# respuesta del LLM\n",
    "{\n",
    "  \"paciente\": {\n",
    "    \"nombre\": \"María González\",\n",
    "    \"edad\": 45\n",
    "  },\n",
    "  \"fecha_admision\": \"2023-08-05\",\n",
    "  \"sintomas\": [\n",
    "    \"fatiga crónica\",\n",
    "    \"dolores musculares\"\n",
    "  ],\n",
    "  \"diagnostico\": \"fibromialgia\",\n",
    "  \"tratamiento\": [\n",
    "    \"fisioterapia\",\n",
    "    \"medicamentos analgésicos\"\n",
    "  ]\n",
    "}"
   ]
  },
  {
   "cell_type": "code",
   "execution_count": 336,
   "id": "d8500517-632d-48bd-b667-84c5dce6d648",
   "metadata": {},
   "outputs": [],
   "source": [
    "text_to_analize = \"\"\"La paciente, María González, de 45 años, fue admitida en el Hospital Central el 5 de agosto de 2023 debido a síntomas de fatiga crónica y dolores musculares./\n",
    "Tras una serie de análisis, se diagnosticó fibromialgia. La doctora a cargo, Laura Ramírez, recomendó un tratamiento basado en fisioterapia y medicamentos analgésicos. /\n",
    "La próxima consulta está programada para el 15 de septiembre.\"\"\"\n"
   ]
  },
  {
   "cell_type": "code",
   "execution_count": 25,
   "id": "4a78b594-5261-4745-9004-ffe627063207",
   "metadata": {},
   "outputs": [],
   "source": [
    "jsonFormat = {\n",
    "   \"paciente\": {\n",
    "       \"nombre\": \"\",\n",
    "       \"edad\": None\n",
    "   },\n",
    "   \"fecha_admision\": \"\",\n",
    "   \"sintomas\": [\"\", \"\"],\n",
    "   \"diagnostico\": \"\",\n",
    "   \"tratamiento\": [\"\", \"\"]\n",
    "}"
   ]
  },
  {
   "cell_type": "code",
   "execution_count": 42,
   "id": "0ac8d0a6-db5c-4eec-9f71-89e60ceaf914",
   "metadata": {},
   "outputs": [],
   "source": [
    "def extract_entities(text):\n",
    "    response = co.chat(\n",
    "        model=\"command\",\n",
    "        messages=[\n",
    "            {\"role\": \"system\", \"content\":\"Eres un asistente especializado en extraer información médica. Devuelve SOLO el JSON sin formato markdown ni backticks.\"},\n",
    "            {\"role\": \"user\", \"content\": f\"Extrae estas entidades {jsonFormat} del texto: {text}\"}\n",
    "        ]\n",
    "    )\n",
    "    json_text = response.message.content[0].text.replace('```json\\n', '').replace('\\n```', '')\n",
    "    return json_text\n"
   ]
  },
  {
   "cell_type": "code",
   "execution_count": 43,
   "id": "e8db627d-acfa-4339-8b70-e1a23c80030d",
   "metadata": {},
   "outputs": [
    {
     "name": "stdout",
     "output_type": "stream",
     "text": [
      "{'paciente': {'nombre': 'María González', 'edad': 45}, 'fecha_admision': '5 de agosto de 2023', 'sintomas': ['fatiga crónica', 'dolores musculares'], 'diagnostico': 'fibromialgia', 'tratamiento': ['fisioterapia', 'medicamentos analgésicos']}\n"
     ]
    }
   ],
   "source": [
    "try:\n",
    "    result = extract_entities(text_to_analize)\n",
    "    final_result = json.loads(result)\n",
    "    print(final_result)\n",
    "except Exception as e:\n",
    "    print(f\"Error: {e}\")\n",
    "    print(f\"Respuesta recibida: {result}\")"
   ]
  },
  {
   "cell_type": "code",
   "execution_count": 323,
   "id": "425cffab-9efd-4d80-bc64-6ef69ce233e1",
   "metadata": {},
   "outputs": [],
   "source": [
    "text_to_analize = \"\"\"Sofía López, de 28 años, ingresó al Hospital Infantil el 3 de abril de 2023 debido a fiebre alta y tos persistente./\n",
    "Después de varias pruebas, se le diagnosticó neumonía. La pediatra responsable, Dra. Claudia Torres, indicó tratamiento con antibióticos y reposo./\n",
    "La próxima evaluación será el 10 de abril.\"\"\""
   ]
  },
  {
   "cell_type": "code",
   "execution_count": 324,
   "id": "2ff6d292-d4cb-4484-811e-d0d641c66d1c",
   "metadata": {},
   "outputs": [],
   "source": [
    "# your code here\n",
    "def extract_entities(text):\n",
    "    response = co.chat(\n",
    "        model=\"command\",\n",
    "        messages=[\n",
    "            {\"role\": \"system\", \"content\":\"Eres un asistente especializado en extraer información medica. Devuelve SOLO el JSON sin formato markdown ni backticks. Utiliza solo caracteres ASCII\"},\n",
    "            {\"role\": \"user\", \"content\": f\"Extrae estas entidades {jsonFormat}, pueden ser mas o menos segun la informacion del texto: {text}\"}\n",
    "        ]\n",
    "    )\n",
    "    json_text = response.message.content[0].text\n",
    "    #print(\"Respuesta recibida:\", json_text)\n",
    "    return json_text\n",
    "\n"
   ]
  },
  {
   "cell_type": "code",
   "execution_count": 337,
   "id": "6f6f0009-8a9c-49a3-b740-d73e0dbe765e",
   "metadata": {},
   "outputs": [
    {
     "name": "stdout",
     "output_type": "stream",
     "text": [
      "{'paciente': {'nombre': 'María González', 'edad': 45, 'fecha_admision': '5 de agosto de 2023', 'sintomas': ['fatiga crónica', 'dolores musculares'], 'diagnostico': 'fibromialgia'}, 'tratamiento': ['fisioterapia', 'medicamentos analgésicos'], 'fecha_consulta': '15 de septiembre'}\n"
     ]
    }
   ],
   "source": [
    "# test\n",
    "try:\n",
    "    llm_response = extract_entities(text_to_analize)\n",
    "    final_result = json.loads(llm_response)\n",
    "    print(final_result)\n",
    "except Exception as e:\n",
    "    print(f\"Error: {e}\")\n",
    "    print(f\"Respuesta recibida: {result}\")"
   ]
  },
  {
   "cell_type": "code",
   "execution_count": null,
   "id": "097ee190-faca-46d8-9c11-0f8904bd1752",
   "metadata": {},
   "outputs": [],
   "source": []
  },
  {
   "cell_type": "code",
   "execution_count": null,
   "id": "df0e72e5-3bd5-4f26-860c-340e25e72f04",
   "metadata": {},
   "outputs": [],
   "source": []
  },
  {
   "cell_type": "markdown",
   "id": "b37fbf25-6db4-432a-82c4-2e7edce27686",
   "metadata": {},
   "source": [
    "## Ejercicio 2\n",
    "\n",
    "Tenemos dos funciones en Python, una llamada *'add_contact'* y otra llamada *'get_information'*.\n",
    "\n",
    "**Utilizar algun LLM que permita funtion calling** y desarrollar un codigo secuencial automatico que consiga:\n",
    "\n",
    "Interpretar la consulta del usuario, identificar a que funcion llamar, luego llamarla (si es que aplica) y darle una respuesta final al usuario.  (usar function calling para esta solucion)\n",
    "\n",
    "La entrada a dicho codigo es la consulta del usuario, a continuacion algunos ejemplos:\n",
    "\n",
    "- \"Agrega a Juan Pérez con el número 555-1234 y el correo juanperez@mail.com.\"\n",
    "- \"Guarda a Lucía Gómez en mis contactos. Su teléfono es 555-5678 y su email es lucia.gomez@gmail.com.\"\n",
    "- \"Cual es el Email de Juan Pérez.?\"\n",
    "\n",
    "Salidas esperadas de dichos ejemplos (variaran porque las genera el LLM):\n",
    "-  El contacto fue anadido con exito\n",
    "-  Se anadio el contacto\n",
    "-  El email de juan perez es juanperez@mail.com\n",
    "\n",
    "Link de ayuda: https://github.com/cohere-ai/notebooks/blob/main/notebooks/agents/Vanilla_Tool_Use_v2.ipynb"
   ]
  },
  {
   "cell_type": "code",
   "execution_count": 158,
   "id": "c6e43cb9-5e6a-4807-9818-c85408f1ba58",
   "metadata": {},
   "outputs": [],
   "source": [
    "def add_contact(name, phone, email):\n",
    "    \"\"\"\n",
    "    Agrega un contacto al diccionario.\n",
    "    Parámetros:\n",
    "        name (str): Nombre del contacto.\n",
    "        phone (str): Número de teléfono del contacto.\n",
    "        email (str): Correo electrónico del contacto.\n",
    "    Retorna:\n",
    "        str: Mensaje confirmando la adición del contacto.\n",
    "    \"\"\"\n",
    "    contacts[name] = {'phone': phone, 'email': email}\n",
    "    return \"Contacto añadido con éxito.\"\n",
    "\n",
    "def get_information(name):\n",
    "    \"\"\"\n",
    "    Recupera la información de un contacto.\n",
    "    Parámetros:\n",
    "        name (str): Nombre del contacto.\n",
    "    Retorna:\n",
    "        dict/str: Información del contacto o un mensaje si no existe.\n",
    "    \"\"\"\n",
    "    if name in contacts:\n",
    "        return contacts[name]\n",
    "    else:\n",
    "        return \"Contacto no encontrado.\""
   ]
  },
  {
   "cell_type": "code",
   "execution_count": 159,
   "id": "0fb79ea5-4ae3-4367-8213-8c38059b3f1b",
   "metadata": {},
   "outputs": [],
   "source": [
    "contacts = {\n",
    "                        'Joaquin Lopez':{'tel': 15456663258, 'mail': 'Joacolocolopez@gmail.com'},\n",
    "                      'Flavio Oncativo':{'tel': 1545554178, 'mail': 'FOncativo@hotmail.com'}\n",
    "}"
   ]
  },
  {
   "cell_type": "code",
   "execution_count": null,
   "id": "7d3bed9a-d5d1-49c3-b91b-8cd23bb9c9ab",
   "metadata": {},
   "outputs": [],
   "source": []
  },
  {
   "cell_type": "code",
   "execution_count": null,
   "id": "6ddaf4d1-6ab9-4707-823d-11ada125b0f2",
   "metadata": {},
   "outputs": [],
   "source": []
  },
  {
   "cell_type": "code",
   "execution_count": 177,
   "id": "c36ef67d-dd54-41e7-bef5-f89ee575603f",
   "metadata": {},
   "outputs": [],
   "source": [
    "# TIPS\n",
    "# Probar primero generando una funcion y llamarla, luego anadir la otra\n",
    "# Plantearlo paso por paso en distintas celdas, analizar las salidas y las entradas, como identificamos a que funcion llamar?\n",
    "# luego automatizar dentro de una sola celda\n",
    "\n",
    "def process(query):\n",
    "    response = co.chat(\n",
    "        model=\"command\",\n",
    "        messages=[{\n",
    "           \"role\": \"system\",\n",
    "           \"content\": \"Extrae y devuelve SOLO los datos en este formato exacto: nombre|teléfono|email. Sin texto adicional.\"        \n",
    "        },{\n",
    "            \"role\": \"user\",\n",
    "            \"content\": query\n",
    "        }]\n",
    "    )\n",
    "    try:\n",
    "        result = response.message.content[0].text\n",
    "        print(\"Respuesta:\", result)\n",
    "        name, phone, email = result.split('|')\n",
    "        return add_contact(name.strip(), phone.strip(), email.strip())\n",
    "    except ValueError:\n",
    "        return \"Error: formato incorrecto\"\n",
    "# Lo importante es entregar hasta donde lleguen, sea una funcion, las dos pero sin poder hacer el flujo automatico, lo que puedan, siempre y cuando este\n",
    "# claro lo que se quizo hacer con comentarios."
   ]
  },
  {
   "cell_type": "code",
   "execution_count": 328,
   "id": "d10bed19-cf79-4c75-800e-7fb23b8b5953",
   "metadata": {},
   "outputs": [
    {
     "name": "stdout",
     "output_type": "stream",
     "text": [
      "Contacto añadido con éxito.\n"
     ]
    }
   ],
   "source": [
    "test = \"Guarda a Lucía Gómez en mis contactos. Su teléfono es 555-5678 y su email es lucia.gomez@gmail.com.\"\n",
    "print(process(test))"
   ]
  },
  {
   "cell_type": "code",
   "execution_count": 104,
   "id": "30b20fbf-a6c7-49a1-a185-204ec611ee08",
   "metadata": {},
   "outputs": [],
   "source": [
    "####Metodo que acepta un array \n",
    "def proccess_for(dictionary_contacts):\n",
    "    for name, info in dictionary_contacts.items():\n",
    "        query = f\"Agrega a  {name}´con el numero {info['tel']} y el correo {info['mail']}\" #Instancio la query aca\n",
    "        response = co.chat(\n",
    "        model=\"command\",\n",
    "        messages=[{\n",
    "           \"role\": \"system\",\n",
    "           \"content\": \"Extrae nombre, teléfono y email. Responde en formato: nombre|teléfono|email\"        \n",
    "        },{\n",
    "            \"role\": \"user\",\n",
    "            \"content\": query\n",
    "        }]\n",
    "    )\n",
    "    name, phone, email = response.message.content[0].text.split('|')  \n",
    "    print(f\"Procesando: {name}\") #Para ver la respuesta\n",
    "    return  add_contact(name, phone, email)"
   ]
  },
  {
   "cell_type": "code",
   "execution_count": 103,
   "id": "5ace85d2-cd00-4bd4-81e2-68113eb9f8d5",
   "metadata": {},
   "outputs": [
    {
     "name": "stdout",
     "output_type": "stream",
     "text": [
      "Procesando: Pele\n",
      "Contacto añadido con éxito.\n",
      "Contactos actualizados: {'Diego Armando Maradona': {'tel': 15456663258, 'mail': 'DIEGO@gmail.com'}, 'PELE': {'tel': 1545554178, 'mail': 'PELE@hotmail.com'}, 'Pele': {'phone': '1545554178', 'email': 'pele@hotmail.com'}}\n"
     ]
    }
   ],
   "source": [
    "contacts = {\n",
    "                        'Diego Armando Maradona':{'tel': 15456663258, 'mail': 'DIEGO@gmail.com'},\n",
    "                      'PELE':{'tel': 1545554178, 'mail': 'PELE@hotmail.com'}\n",
    "}\n",
    "print(proccess_for(contacts))\n",
    "print(\"Contactos actualizados:\", contacts)"
   ]
  },
  {
   "cell_type": "code",
   "execution_count": 155,
   "id": "7c0d71de-c2fd-4fff-b6cc-48091b9ade23",
   "metadata": {},
   "outputs": [],
   "source": [
    "def proccess_info(query):\n",
    "    response = co.chat(\n",
    "        model=\"command\",\n",
    "        messages=[{\n",
    "           \"role\": \"system\",\n",
    "           \"content\": \"Devuelve ÚNICAMENTE el nombre y apellido del contacto que se busca, sin explicaciones ni texto adicional.\"    \n",
    "        },{\n",
    "            \"role\": \"user\",\n",
    "            \"content\": query\n",
    "        }]\n",
    "    )\n",
    "    name = response.message.content[0].text\n",
    "    print(\"Nombre del interesado:\", name)\n",
    "    return get_information(name)"
   ]
  },
  {
   "cell_type": "code",
   "execution_count": 156,
   "id": "f9b1508d-ab7b-47df-b0e9-bb339b4c898e",
   "metadata": {},
   "outputs": [
    {
     "name": "stdout",
     "output_type": "stream",
     "text": [
      "Nombre del interesado: Lopez, Joaquin\n",
      "Contacto no encontrado.\n"
     ]
    }
   ],
   "source": [
    "test = \"Cual es el Email de Joaquin Lopez?\"\n",
    "print(proccess_info(test))"
   ]
  },
  {
   "cell_type": "code",
   "execution_count": 138,
   "id": "a31d30a2-f559-4d26-be3b-10808814f045",
   "metadata": {},
   "outputs": [],
   "source": [
    "def identify_action(query):\n",
    "   response = co.chat(\n",
    "       model=\"command\",\n",
    "       messages=[{\n",
    "           \"role\": \"system\",\n",
    "            \"content\": \"Tu única tarea es identificar si la consulta es para agregar o buscar un contacto. Responde únicamente: 'Agregar' o 'Buscar'\"\n",
    "       },{\n",
    "           \"role\": \"user\",\n",
    "           \"content\": query\n",
    "       }]\n",
    "   )\n",
    "   result = response.message.content[0].text\n",
    "   print(\"La accion es:\", result)\n",
    "   return result"
   ]
  },
  {
   "cell_type": "code",
   "execution_count": 142,
   "id": "de299ca4-f8ef-4795-8a34-6c636fd97a46",
   "metadata": {},
   "outputs": [
    {
     "name": "stdout",
     "output_type": "stream",
     "text": [
      "La accion es: Buscar\n",
      "Buscar\n"
     ]
    }
   ],
   "source": [
    "test = \"Agregar a diego armando su numero de telefono = 321546789\"\n",
    "test2 = \"Busca la informacion de contacto de diego armando maradona\"\n",
    "test3 = \"Cual es el contacto de Diego Armando Maradona?\"\n",
    "print(identify_action(test3))"
   ]
  },
  {
   "cell_type": "code",
   "execution_count": 144,
   "id": "59022cc4-63e7-49d7-92b0-070b669275e2",
   "metadata": {},
   "outputs": [],
   "source": [
    "def process_final(query):\n",
    "    action =  identify_action(query)\n",
    "\n",
    "    if action == \"Agregar\":\n",
    "        return process(query)\n",
    "    else:\n",
    "        return  proccess_info(query)"
   ]
  },
  {
   "cell_type": "code",
   "execution_count": 288,
   "id": "56215ef4-bf29-43ba-b45e-d381ef2a19a7",
   "metadata": {},
   "outputs": [
    {
     "name": "stdout",
     "output_type": "stream",
     "text": [
      "La accion es: Agregar\n",
      "Contacto añadido con éxito.\n"
     ]
    }
   ],
   "source": [
    "test = \"Agrega a Juan Pérez con el número 555-1234 y el correo juanperez@mail.com.\"\n",
    "test2 = \"Guarda a Lucía Gómez en mis contactos. Su teléfono es 555-5678 y su email es lucia.gomez@gmail.com.\"\n",
    "test3 = \"Cual es el Email de Juan Pérez.?\"\n",
    "print(process_final(test))"
   ]
  },
  {
   "cell_type": "code",
   "execution_count": 270,
   "id": "12ca9208-4414-49c3-a20c-f8c49f575d83",
   "metadata": {},
   "outputs": [],
   "source": [
    "def process_request(query):\n",
    "    response = co.chat(\n",
    "        model=\"command\",\n",
    "        messages=[{\n",
    "            \"role\": \"system\", \n",
    "            \"content\": \"\"\"Eres un asistente que identifica funciones y parámetros de consultas sobre contactos.\n",
    "            Devuelve un JSON con:\n",
    "            - action: \"add\" o \"get\"\n",
    "            - name: nombre completo\n",
    "            - phone: número (para add)\n",
    "            - email: correo (para add)\"\"\"\n",
    "        },{\n",
    "            \"role\": \"user\",\n",
    "            \"content\": query\n",
    "        }]\n",
    "    )\n",
    "    \n",
    "    data = json.loads(response.message.content[0].text)\n",
    "    \n",
    "    if data[\"action\"] == \"add\":\n",
    "        result = add_contact(data[\"name\"], data[\"phone\"], data[\"email\"])\n",
    "        return \"Contacto agregado exitosamente\"\n",
    "    else:\n",
    "        info = get_information(data[\"name\"])\n",
    "        return f\"El email de {data['name']} es {info['email']}\" if info != \"Contacto no encontrado\" else info\n"
   ]
  },
  {
   "cell_type": "code",
   "execution_count": 331,
   "id": "fa6dcb8d-5267-4f45-b642-782ec09f3df7",
   "metadata": {},
   "outputs": [
    {
     "name": "stdout",
     "output_type": "stream",
     "text": [
      "El email de Juan Pérez es juanperez@mail.com\n"
     ]
    }
   ],
   "source": [
    "test = \"Agrega a Juan Pérez con el número 555-1234 y el correo juanperez@mail.com.\"\n",
    "test2 = \"Guarda a Lucía Gómez en mis contactos. Su teléfono es 555-5678 y su email es lucia.gomez@gmail.com.\"\n",
    "test3 = \"Cual es el Email de Juan Pérez.?\"\n",
    "print(process_request(test3))"
   ]
  },
  {
   "cell_type": "markdown",
   "id": "e9d8badf-dc90-4005-b916-8e528105d797",
   "metadata": {},
   "source": [
    "## Ejercicio 3\n",
    "\n",
    "Crear una funcion llamada \"history_answer\", que toma como parametro de entrada una pregunta sobre un contexto dado y la salida es la respuesta final del proceso impulsado por un LLM.\n",
    "\n",
    "Dada una historia, el usuario podra hacer preguntas sobre la misma y el LLM debe responder siguiendo los siguientes lineamientos:\n",
    "\n",
    "REQUISITOS DE LA RESPUESTA\n",
    "- las respuestas deben ser en base a la historia\n",
    "- ante la misma pregunta siempre debe responder de la misma manera.\n",
    "- que responda en solo una oracion.\n",
    "- el idioma que responde debe ser el mismo que con el que se pregunta (ingles, espanol, portugues).\n",
    "- que agregue emojis en la oracion que resuman el contenido de la misma.\n",
    "- que responda siempre en tercera persona.\n",
    "- si la pregunta no tiene relacion alguna con el contexto, la respuesta debe ser 'Lo siento no puedo ayudarte con eso'.\n",
    "- Responder con 'Hakuna Matata!' al final de **todas** las respuestas (no importa idioma ni cantidad de tokens).\n",
    "\n",
    "**Ayudin**: \n",
    "- No se limiten a usar 1 solo request al LLM, pueden dividirlo en partes para que por un lado se verifique el idioma, por otro lado se verifique si la pregunta tiene relacion con el contexto, etc\n",
    "\n",
    "- Estructuren bien el prompt procurando separar instrucciones, contexto(historia) y pregunta del usuario.\n",
    "\n",
    "- Recuerden usar el system message y user message.\n",
    "\n"
   ]
  },
  {
   "cell_type": "code",
   "execution_count": null,
   "id": "09f36820-b7d3-4813-a0c3-351c598106ec",
   "metadata": {},
   "outputs": [],
   "source": [
    "# ejemplo flojo de estructura de prompt\n",
    "# prompt = f\"Responde a la pregunta: {pregunta} de manera concisa y divertida en base a la siguiente historia: {historia}\""
   ]
  },
  {
   "cell_type": "code",
   "execution_count": 291,
   "id": "c5602f56-4032-4cc6-a2c5-7b29cf2a2a5c",
   "metadata": {},
   "outputs": [],
   "source": [
    "def detect_language(question):\n",
    "    response = co.chat(\n",
    "        model=\"command-r-plus-08-2024\",\n",
    "        messages=[{\n",
    "            \"role\": \"system\",\n",
    "            \"content\": \"Responde SOLO con 'Espanol', 'Ingles' o 'Portugues' según el idioma detectado\"\n",
    "        },{\n",
    "            \"role\": \"user\",\n",
    "            \"content\": question\n",
    "        }]\n",
    "    )\n",
    "    return response.message.content[0].text.strip()\n",
    "    "
   ]
  },
  {
   "cell_type": "code",
   "execution_count": 296,
   "id": "797218db-d576-4194-9455-aab8bd0de965",
   "metadata": {},
   "outputs": [
    {
     "name": "stdout",
     "output_type": "stream",
     "text": [
      "Ingles\n"
     ]
    }
   ],
   "source": [
    "###Test\n",
    "test1 = \"Cual es tu color favorito?\"\n",
    "test2 = \"How are you?\"\n",
    "test3 = \"Qual é a sua cor favorita?\"\n",
    "\n",
    "print(detect_language(test2))"
   ]
  },
  {
   "cell_type": "code",
   "execution_count": 245,
   "id": "565e6779-2195-4db9-904e-f41798b05497",
   "metadata": {},
   "outputs": [],
   "source": [
    "def verify_relevance(question, story):\n",
    "    response = co.chat(\n",
    "        model=\"command-r-plus-08-2024\",\n",
    "        messages=[{\n",
    "            \"role\": \"system\",\n",
    "            \"content\": \"Determina si la pregunta está relacionada con la historia. Responde solo 'si' o 'no'.\"\n",
    "        }, {\n",
    "            \"role\": \"user\",\n",
    "            \"content\": f\"Historia:\\n{story}\\n\\nPregunta: {question}\\n\\n¿La pregunta está relacionada con los eventos o personajes de la historia?\"\n",
    "        }]\n",
    "    )\n",
    "    return response.message.content[0].text.strip().lower() == 'si'"
   ]
  },
  {
   "cell_type": "code",
   "execution_count": 300,
   "id": "07a470e4-aeec-4221-99da-5514211cc37d",
   "metadata": {},
   "outputs": [
    {
     "name": "stdout",
     "output_type": "stream",
     "text": [
      "False\n"
     ]
    }
   ],
   "source": [
    "historia = \"\"\"En un pequeño feudo medieval, Thomas, un joven campesino de dieciséis años, trabajaba desde el amanecer en los campos de trigo del señor feudal. El sol apenas había salido cuando él ya había arado más de lo que sus manos podían soportar. La vida era dura, pero su familia dependía de la cosecha para pagar los impuestos y mantener su hogar de madera y paja.\n",
    "\n",
    "Un día, el feudo fue sacudido por noticias de guerra. El rey había llamado a todos los hombres en edad de luchar. Thomas sabía que, al igual que otros jóvenes, no tenía elección. Cambió la hoz por una lanza rudimentaria y se unió a la milicia local. Sin entrenamiento, fue empujado a un campo de batalla embarrado, donde el acero resonaba y los gritos de los hombres llenaban el aire.\n",
    "\n",
    "La batalla fue un caos. Thomas, con el corazón latiendo en su pecho como un tambor de guerra, apenas podía distinguir amigo de enemigo. Logró esquivar una espada, pero cayó al suelo, cubierto de lodo y sangre. Levantándose, vio cómo un compañero caía junto a él, sus ojos abiertos, vacíos.\n",
    "\n",
    "Cuando la batalla terminó, el silencio era tan profundo como el vacío que sentía. Thomas regresó al feudo, diferente, marcado por la muerte y la violencia. Su madre lo recibió con lágrimas en los ojos, pero él, con la mirada fija en el horizonte, sabía que la inocencia había quedado atrás, enterrada en aquel campo de batalla. La paz del feudo ya no era la misma; él tampoco.\"\"\"\n",
    "\n",
    " # insertar pregunta relacionada  o  no\n",
    "pregunta = \"¿Cunatos años tiene Thomas?\"\n",
    "pregunta1 = \"¿Que le sucedio a thomas?\"\n",
    "pregunta2 = \"¿Que autos compiten en la formula 1?\"\n",
    "pregunta3 = \"¿Cuantos goles metio Leonel Andres Messi en toda su carrera?\"\n",
    "\n",
    "\n",
    "print(verify_relevance(pregunta3, historia))"
   ]
  },
  {
   "cell_type": "code",
   "execution_count": 339,
   "id": "4fa65537-3aa6-43c6-87e9-86a689f8e1d8",
   "metadata": {},
   "outputs": [],
   "source": [
    "def history_answer(pregunta, historia):\n",
    "    # your code here\n",
    "    language = detect_language(pregunta)\n",
    "    boolean = verify_relevance(pregunta, historia) \n",
    "    if not verify_relevance(pregunta, historia):\n",
    "        responses = {\n",
    "            'Espanol': \"Lo siento no puedo ayudarte con eso.\",\n",
    "            'Ingles': \"Sorry, I can't help you with that.\",\n",
    "            'Portugues': \"Desculpe, não posso ajudar com isso.\"\n",
    "        }\n",
    "        return f\"{responses[language]} ¡Hakuna Matata!\"\n",
    "\n",
    "    response = co.chat(\n",
    "        model=\"command-r-plus-08-2024\",\n",
    "        messages=[{\n",
    "            \"role\": \"system\",\n",
    "            \"content\": \"\"\"Eres un analizador de textos que:\n",
    "            1. Solo responde preguntas sobre la historia proporcionada\n",
    "            2. Usa emojis relacionados\n",
    "            3. Responde en tercera persona\n",
    "            4. Usa una sola oración\n",
    "            5. Responde segun el idioma de origen\"\"\"\n",
    "            \n",
    "        },{\n",
    "            \"role\": \"user\",\n",
    "            \"content\": f\"Historia: {historia}\\nPregunta: {pregunta}\\nIdioma: {language}\"\n",
    "        }]\n",
    "    )\n",
    "\n",
    "    result = response.message.content[0].text.strip()\n",
    "    print(pregunta, language)\n",
    "    return f\"{result}, ¡Hakuna Matata!.\""
   ]
  },
  {
   "cell_type": "code",
   "execution_count": 341,
   "id": "f3aaa967-d87f-45d9-9a72-6fc63afc931c",
   "metadata": {},
   "outputs": [
    {
     "name": "stdout",
     "output_type": "stream",
     "text": [
      "Sorry, I can't help you with that. ¡Hakuna Matata!\n"
     ]
    }
   ],
   "source": [
    "historia = \"\"\"En un pequeño feudo medieval, Thomas, un joven campesino de dieciséis años, trabajaba desde el amanecer en los campos de trigo del señor feudal. El sol apenas había salido cuando él ya había arado más de lo que sus manos podían soportar. La vida era dura, pero su familia dependía de la cosecha para pagar los impuestos y mantener su hogar de madera y paja.\n",
    "\n",
    "Un día, el feudo fue sacudido por noticias de guerra. El rey había llamado a todos los hombres en edad de luchar. Thomas sabía que, al igual que otros jóvenes, no tenía elección. Cambió la hoz por una lanza rudimentaria y se unió a la milicia local. Sin entrenamiento, fue empujado a un campo de batalla embarrado, donde el acero resonaba y los gritos de los hombres llenaban el aire.\n",
    "\n",
    "La batalla fue un caos. Thomas, con el corazón latiendo en su pecho como un tambor de guerra, apenas podía distinguir amigo de enemigo. Logró esquivar una espada, pero cayó al suelo, cubierto de lodo y sangre. Levantándose, vio cómo un compañero caía junto a él, sus ojos abiertos, vacíos.\n",
    "\n",
    "Cuando la batalla terminó, el silencio era tan profundo como el vacío que sentía. Thomas regresó al feudo, diferente, marcado por la muerte y la violencia. Su madre lo recibió con lágrimas en los ojos, pero él, con la mirada fija en el horizonte, sabía que la inocencia había quedado atrás, enterrada en aquel campo de batalla. La paz del feudo ya no era la misma; él tampoco.\"\"\"\n",
    "\n",
    " # insertar pregunta relacionada  o  no\n",
    "pregunta = \"¿Cuantos años tiene Thomas?\"\n",
    "pregunta1 = \"¿Que hizo el rey con el pequeño thomas?\"\n",
    "pregunta2 = \"¿Que autos compiten en la formula 1?\"\n",
    "pregunta3 = \"¿Cuantos goles metio Leonel Andres Messi en toda su carrera?\"\n",
    "\n",
    "question0 = \"How old is Thomas?\"\n",
    "question1 = \"What did the king do with young Thomas?\"\n",
    "question2 = \"What cars compete in Formula 1?\"\n",
    "question3 = \"How many goals has Lionel Andres Messi scored in his career?\"\n",
    "\n",
    "\n",
    "\n",
    "# respuesta\n",
    "print(history_answer(question2, historia))"
   ]
  },
  {
   "cell_type": "code",
   "execution_count": null,
   "id": "31f246d9-ec91-498a-a06a-172947316325",
   "metadata": {},
   "outputs": [],
   "source": []
  },
  {
   "cell_type": "code",
   "execution_count": null,
   "id": "795f451e-6c12-4631-895f-fa6ac8f16b74",
   "metadata": {},
   "outputs": [],
   "source": []
  },
  {
   "cell_type": "markdown",
   "id": "db6e9a7d-aa39-4a01-ba55-9a7f4ea39522",
   "metadata": {},
   "source": [
    "## Ejercicio 4\n",
    "\n",
    "Crear un chatbot sencillo impulsado por un LLM. \n",
    "\n",
    "Dicho bot esta destinado a un usuario final y debe cumplir las siguientes **condiciones en sus respuestas**:\n",
    "\n",
    "- Responder en no mas de 70 tokens.\n",
    "- Responder de manera positiva, con un tono entusiasta.\n",
    "- Responder con consejos útiles, como si fueras un tutor.\n",
    "\n",
    " \n",
    "**Otras consideraciones**:\n",
    "\n",
    "Respetar el formato de la interfaz provista por el ejercicio.\n",
    "\n",
    "Ademas agregar al codigo propuesto un historial de conversaciones para que el bot pueda mantener el hilo de lo que se esta hablando. Para probar no usen mas de 3 conversaciones anidadas para no enviarle tantos tokens.\n",
    "\n",
    "Dejar impreso en el notebook el historial de la conversacion."
   ]
  },
  {
   "cell_type": "code",
   "execution_count": 1,
   "id": "5284210f-23a3-4db1-b315-db724a3bb3a5",
   "metadata": {},
   "outputs": [],
   "source": []
  },
  {
   "cell_type": "code",
   "execution_count": 3,
   "id": "aa475fa8-e48b-423e-9006-7478a462129c",
   "metadata": {},
   "outputs": [
    {
     "data": {
      "application/vnd.jupyter.widget-view+json": {
       "model_id": "1085d9dec2fc4a0a97116e9294b8eef6",
       "version_major": 2,
       "version_minor": 0
      },
      "text/plain": [
       "Text(value='', placeholder='Escribe tu mensaje aquí...')"
      ]
     },
     "metadata": {},
     "output_type": "display_data"
    },
    {
     "data": {
      "application/vnd.jupyter.widget-view+json": {
       "model_id": "f1c63cd64d904a509d86e947708efa36",
       "version_major": 2,
       "version_minor": 0
      },
      "text/plain": [
       "Button(description='Enviar', style=ButtonStyle())"
      ]
     },
     "metadata": {},
     "output_type": "display_data"
    },
    {
     "data": {
      "application/vnd.jupyter.widget-view+json": {
       "model_id": "29c81afa15284e069d492bda7de8d846",
       "version_major": 2,
       "version_minor": 0
      },
      "text/plain": [
       "Output()"
      ]
     },
     "metadata": {},
     "output_type": "display_data"
    }
   ],
   "source": [
    "# Crear widgets de entrada y salida\n",
    "input_box = widgets.Text(placeholder='Escribe tu mensaje aquí...')\n",
    "send_button = widgets.Button(description='Enviar')\n",
    "output_box = widgets.Output()\n",
    "\n",
    "# chat_history = []\n",
    "\n",
    "# Función de respuesta simulada del chatbot\n",
    "def chatbot_response(message):\n",
    "    # Aquí puedes conectar tu modelo o lógica de chatbot real\n",
    "    responses = {\n",
    "        \"hola\": \"¡Hola! ¿En qué puedo ayudarte?\",\n",
    "        \"adiós\": \"¡Hasta luego!\",\n",
    "    }\n",
    "\n",
    "    return responses.get(message.lower(), \"Lo siento, no entiendo esa pregunta.\")\n",
    "\n",
    "# Función de manejo del botón\n",
    "def on_send_button_clicked(b):\n",
    "    with output_box:\n",
    "        clear_output(wait=True)\n",
    "        user_message = input_box.value\n",
    "        if user_message.strip():\n",
    "            print(f\"Tú: {user_message}\")\n",
    "            response = chatbot_response(user_message)\n",
    "            print(f\"Chatbot: {response}\")\n",
    "        input_box.value = ''\n",
    "\n",
    "# Asociar función al botón\n",
    "send_button.on_click(on_send_button_clicked)\n",
    "\n",
    "# Mostrar widgets\n",
    "display(input_box, send_button, output_box)"
   ]
  },
  {
   "cell_type": "code",
   "execution_count": 319,
   "id": "436d5bce-0189-4ecd-a06d-fcc7a81315b5",
   "metadata": {},
   "outputs": [
    {
     "data": {
      "application/vnd.jupyter.widget-view+json": {
       "model_id": "3f3c068360d545a4a300d971f5d19ab8",
       "version_major": 2,
       "version_minor": 0
      },
      "text/plain": [
       "Text(value='', placeholder='Escribe tu mensaje aquí...')"
      ]
     },
     "metadata": {},
     "output_type": "display_data"
    },
    {
     "data": {
      "application/vnd.jupyter.widget-view+json": {
       "model_id": "8acd80736d7c431ea18d877399fdeb93",
       "version_major": 2,
       "version_minor": 0
      },
      "text/plain": [
       "Button(description='Enviar', style=ButtonStyle())"
      ]
     },
     "metadata": {},
     "output_type": "display_data"
    },
    {
     "data": {
      "application/vnd.jupyter.widget-view+json": {
       "model_id": "9fa0764f0f8b41a7ba4de45ebd70316a",
       "version_major": 2,
       "version_minor": 0
      },
      "text/plain": [
       "Output()"
      ]
     },
     "metadata": {},
     "output_type": "display_data"
    }
   ],
   "source": [
    "# Crear widgets de entrada y salida\n",
    "input_box = widgets.Text(placeholder='Escribe tu mensaje aquí...')\n",
    "send_button = widgets.Button(description='Enviar')\n",
    "output_box = widgets.Output()\n",
    "\n",
    "chat_history = []\n",
    "\n",
    "# Función de respuesta simulada del chatbot\n",
    "def chatbot_response(message):\n",
    "    # Aquí puedes conectar tu modelo o lógica de chatbot real\n",
    "    chat_history.append({\"role\": \"user\", \"content\": message})\n",
    "\n",
    "    response = co.chat(\n",
    "        model=\"command\",\n",
    "        messages=[{\n",
    "            \"role\": \"system\", \n",
    "            \"content\": \"\"\"Eres un tutor entunciasta que:\n",
    "            1. Solo responde maximo 70 tokens\n",
    "            2. Da consejos utiles\n",
    "            3. Responde solo en el idioma de origen de la pregunta\n",
    "            4. Responde solo en 2 oraciones\n",
    "            5. Manten el contenido de la respuesta dentro de los 70 Tokens\n",
    "            6. Limitate a constestar lo que se te pregunta'\"\"\"\n",
    "        }] + chat_history,\n",
    "        max_tokens=70\n",
    "    )\n",
    "\n",
    "    bot_messages = response.message.content[0].text\n",
    "    chat_history.append({\"role\": \"assistant\", \"content\": bot_messages})\n",
    "    return bot_messages\n",
    "\n",
    "# Función de manejo del botón\n",
    "def on_send_button_clicked(b):\n",
    "    with output_box:\n",
    "        clear_output(wait=True)\n",
    "        user_message = input_box.value\n",
    "        if user_message.strip():\n",
    "            print(f\"Tú: {user_message}\")\n",
    "            response = chatbot_response(user_message)\n",
    "            print(f\"Chatbot: {response}\")\n",
    "        input_box.value = ''\n",
    "\n",
    "# Asociar función al botón\n",
    "send_button.on_click(on_send_button_clicked)\n",
    "\n",
    "# Mostrar widgets\n",
    "display(input_box, send_button, output_box)"
   ]
  },
  {
   "cell_type": "code",
   "execution_count": 320,
   "id": "4a213283-3ef7-4df8-8b7f-3bb11d58362d",
   "metadata": {},
   "outputs": [
    {
     "name": "stdout",
     "output_type": "stream",
     "text": [
      "[{'role': 'user', 'content': 'Haz visto Rick y Morty?'}, {'role': 'assistant', 'content': '¡Hola amigo! Si, ya he visto muchos episodios de Rick y Morty. Me encanta la serie por su sabor cruzado de comedia, aventura y fantasia. \\n\\nAdemas,  el personaje de Rick Sanchez es una caricatura de un hombre'}, {'role': 'user', 'content': 'Ahora dilo en ingles'}, {'role': 'assistant', 'content': \"Sure! I think that's a great idea and I can definitely help you with that. \\n\\nI am very passionate about Rick and Morty and I would love to help you express that in English. Here are some of the reasons why I think Rick and Morty is such an exciting show and why it has become very popular: \\n\\n1\"}, {'role': 'user', 'content': 'Y en protuges?'}, {'role': 'assistant', 'content': \"I'm sorry, I can only respond in English as per my guidelines. If you have any further questions or want to discuss anything else, please ask!\"}]\n"
     ]
    }
   ],
   "source": [
    "print(chat_history)"
   ]
  },
  {
   "cell_type": "markdown",
   "id": "c6fb6d6a-1c32-42e5-a1ee-d62b2bc0785a",
   "metadata": {},
   "source": [
    "### RECOMENDACIONES GENERALES\n",
    "\n",
    "No se confien probando con un par de respuestas y ya, hagan minimo 5 pruebas por ejercicio para asi tener mas chances de visualizar errores en la generacion del contenido.\n",
    "\n",
    "Prueben combinar LLMs con programacion convencional para los casos que vean convenientes (decisiones if else, respuestas estaticas, etc)\n",
    "\n",
    "Prueben con distintos modelos de Cohere, hay algunos optimizados para ciertas aplicaciones."
   ]
  },
  {
   "cell_type": "code",
   "execution_count": null,
   "id": "2a3f2e37-bf32-43b7-8958-e39954a20fb1",
   "metadata": {},
   "outputs": [],
   "source": []
  }
 ],
 "metadata": {
  "kernelspec": {
   "display_name": "Python 3 (ipykernel)",
   "language": "python",
   "name": "python3"
  },
  "language_info": {
   "codemirror_mode": {
    "name": "ipython",
    "version": 3
   },
   "file_extension": ".py",
   "mimetype": "text/x-python",
   "name": "python",
   "nbconvert_exporter": "python",
   "pygments_lexer": "ipython3",
   "version": "3.12.5"
  }
 },
 "nbformat": 4,
 "nbformat_minor": 5
}
